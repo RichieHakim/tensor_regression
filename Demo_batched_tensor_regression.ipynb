{
 "cells": [
  {
   "cell_type": "code",
   "execution_count": 5,
   "id": "2ac3fa48",
   "metadata": {},
   "outputs": [
    {
     "data": {
      "text/html": [
       "<style>.container {width:95% !important; }</style>"
      ],
      "text/plain": [
       "<IPython.core.display.HTML object>"
      ]
     },
     "metadata": {},
     "output_type": "display_data"
    }
   ],
   "source": [
    "# widen jupyter notebook window\n",
    "from IPython.core.display import display, HTML\n",
    "display(HTML(\"<style>.container {width:95% !important; }</style>\"))"
   ]
  },
  {
   "cell_type": "code",
   "execution_count": 45,
   "id": "a200a495",
   "metadata": {},
   "outputs": [],
   "source": [
    "import torch\n",
    "from torch.utils.data import DataLoader\n",
    "\n",
    "import numpy as np\n",
    "import tensorly as tl\n",
    "import scipy.signal\n",
    "import matplotlib.pyplot as plt\n",
    "import copy"
   ]
  },
  {
   "cell_type": "code",
   "execution_count": 7,
   "id": "c2b93340",
   "metadata": {},
   "outputs": [],
   "source": [
    "import sys\n",
    "sys.path.append(r'/media/rich/Home_Linux_partition/github_repos')\n",
    "%load_ext autoreload\n",
    "%autoreload 2\n",
    "from tensor_regression import standard_tensor_regression as STR"
   ]
  },
  {
   "cell_type": "code",
   "execution_count": 8,
   "id": "e1a38326",
   "metadata": {},
   "outputs": [],
   "source": [
    "import tensorly as tl"
   ]
  },
  {
   "cell_type": "code",
   "execution_count": 9,
   "id": "6e485946",
   "metadata": {},
   "outputs": [
    {
     "name": "stdout",
     "output_type": "stream",
     "text": [
      "The autoreload extension is already loaded. To reload it, use:\n",
      "  %reload_ext autoreload\n"
     ]
    }
   ],
   "source": [
    "%load_ext autoreload\n",
    "%autoreload 2\n",
    "import basic_neural_processing_modules as bnpm\n",
    "from basic_neural_processing_modules import torch_helpers\n",
    "from basic_neural_processing_modules import h5_handling\n",
    "from basic_neural_processing_modules import misc"
   ]
  },
  {
   "cell_type": "code",
   "execution_count": 10,
   "id": "700d1aae",
   "metadata": {},
   "outputs": [],
   "source": [
    "dir_data = r'/media/rich/bigSSD/for_Josh/'\n",
    "fileName_X_data = r'positions_convDR_meanSub_s2pInd.h5'\n",
    "fileName_y_data = r'neural_data.h5'\n",
    "positions = h5_handling.simple_load(directory=dir_data, fileName=fileName_X_data)\n",
    "neural_data = h5_handling.simple_load(directory=dir_data, fileName=fileName_y_data)"
   ]
  },
  {
   "cell_type": "code",
   "execution_count": 43,
   "id": "c586c16a",
   "metadata": {},
   "outputs": [
    {
     "name": "stdout",
     "output_type": "stream",
     "text": [
      "1 device(s) found.\n",
      "0 GeForce RTX 3090\n",
      "GPU is enabled.\n"
     ]
    }
   ],
   "source": [
    "torch_helpers.show_cuda_devices()\n",
    "DEVICE = STR.set_device(use_GPU=True, verbose=True)"
   ]
  },
  {
   "cell_type": "code",
   "execution_count": 47,
   "id": "62d3f0cf",
   "metadata": {},
   "outputs": [],
   "source": [
    "from torch.utils.data import Dataset\n",
    "\n",
    "class WindowedDataset(Dataset):\n",
    "    def __init__(self, X_untiled, y_input, win_range, transform=None, target_transform=None):\n",
    "        self.X_untiled = X_untiled # first dim will be subsampled from\n",
    "        self.y_input = y_input # first dim will be subsampled from\n",
    "        self.win_range = win_range\n",
    "        self.n_samples = y_input.shape[0]\n",
    "        self.usable_idx = torch.arange(-self.win_range[0] , self.n_samples-self.win_range[1]+1)\n",
    "        \n",
    "        if X_untiled.shape[0] != y_input.shape[0]:\n",
    "            raise ValueError('RH: X and y must have same first dimension shape')\n",
    "\n",
    "    def __len__(self):\n",
    "        return self.n_samples\n",
    "    \n",
    "    def check_bound_errors(self, idx):\n",
    "        idx_toRemove = []\n",
    "        for val in idx:\n",
    "            if (val+self.win_range[0] < 0) or (val+self.win_range[1] > self.n_samples):\n",
    "                idx_toRemove.append(val)\n",
    "        if len(idx_toRemove) > 0:\n",
    "            raise ValueError(f'RH: input idx is too close to edges. Remove idx: {idx_toRemove}')\n",
    "\n",
    "    def __getitem__(self, idx):\n",
    "#         print(idx)\n",
    "#         self.check_bound_errors(idx)\n",
    "        X_subset_tiled = self.X_untiled[idx+self.win_range[0] : idx+self.win_range[1]]\n",
    "        y_subset = self.y_input[idx]\n",
    "        return X_subset_tiled, y_subset"
   ]
  },
  {
   "cell_type": "code",
   "execution_count": 50,
   "id": "88c3a6cd",
   "metadata": {},
   "outputs": [
    {
     "name": "stdout",
     "output_type": "stream",
     "text": [
      "pos_array.shape = torch.Size([108000, 2744])\n",
      "neural_array.shape = torch.Size([108000, 811])\n"
     ]
    }
   ],
   "source": [
    "pos_array = torch.tensor(positions['positions_convDR_meanSub_s2pInd'])\n",
    "print(f'pos_array.shape = {pos_array.shape}')\n",
    "\n",
    "ic = neural_data['is_cell']\n",
    "good_ROIs = neural_data['good_ROIs']\n",
    "neural_array = torch.tensor(neural_data['dFoF'][ic][good_ROIs]).T\n",
    "\n",
    "print(f'neural_array.shape = {neural_array.shape}')\n",
    "\n",
    "win_range = [-120*3, -120*-1]"
   ]
  },
  {
   "cell_type": "code",
   "execution_count": 61,
   "id": "afee2a59",
   "metadata": {},
   "outputs": [],
   "source": [
    "def make_WindowedDataloader(X, y, win_range):\n",
    "    dataset = WindowedDataset(X, y, win_range)\n",
    "\n",
    "    sampler = torch.utils.data.SubsetRandomSampler(dataset.usable_idx, generator=None)\n",
    "\n",
    "    dataloader = DataLoader(dataset, batch_size=3000,\n",
    "        shuffle=False, pin_memory=False, drop_last=True, num_workers=0,\n",
    "                            sampler=sampler)\n",
    "    return dataloader, dataset, sampler"
   ]
  },
  {
   "cell_type": "code",
   "execution_count": 62,
   "id": "c536b268",
   "metadata": {},
   "outputs": [],
   "source": [
    "dataloader, dataset, sampler = make_WindowedDataloader(pos_array, neural_array, win_range)"
   ]
  },
  {
   "cell_type": "code",
   "execution_count": 63,
   "id": "9f4b758b",
   "metadata": {},
   "outputs": [
    {
     "name": "stdout",
     "output_type": "stream",
     "text": [
      "torch.Size([3000, 480, 2744])\n",
      "15.80544\n",
      "3.8548481464385986\n"
     ]
    },
    {
     "ename": "KeyboardInterrupt",
     "evalue": "",
     "output_type": "error",
     "traceback": [
      "\u001b[0;31m---------------------------------------------------------------------------\u001b[0m",
      "\u001b[0;31mKeyboardInterrupt\u001b[0m                         Traceback (most recent call last)",
      "\u001b[0;32m<ipython-input-63-05c0bcf21ce5>\u001b[0m in \u001b[0;36m<module>\u001b[0;34m\u001b[0m\n\u001b[1;32m      7\u001b[0m \u001b[0;31m# for val in dataset:\u001b[0m\u001b[0;34m\u001b[0m\u001b[0;34m\u001b[0m\u001b[0;34m\u001b[0m\u001b[0m\n\u001b[1;32m      8\u001b[0m \u001b[0;31m#     val\u001b[0m\u001b[0;34m\u001b[0m\u001b[0;34m\u001b[0m\u001b[0;34m\u001b[0m\u001b[0m\n\u001b[0;32m----> 9\u001b[0;31m     \u001b[0mval\u001b[0m\u001b[0;34m[\u001b[0m\u001b[0;36m0\u001b[0m\u001b[0;34m]\u001b[0m\u001b[0;34m.\u001b[0m\u001b[0mto\u001b[0m\u001b[0;34m(\u001b[0m\u001b[0mDEVICE\u001b[0m\u001b[0;34m)\u001b[0m\u001b[0;34m\u001b[0m\u001b[0;34m\u001b[0m\u001b[0m\n\u001b[0m\u001b[1;32m     10\u001b[0m     \u001b[0mval\u001b[0m\u001b[0;34m[\u001b[0m\u001b[0;36m1\u001b[0m\u001b[0;34m]\u001b[0m\u001b[0;34m.\u001b[0m\u001b[0mto\u001b[0m\u001b[0;34m(\u001b[0m\u001b[0mDEVICE\u001b[0m\u001b[0;34m)\u001b[0m\u001b[0;34m\u001b[0m\u001b[0;34m\u001b[0m\u001b[0m\n\u001b[1;32m     11\u001b[0m     \u001b[0mprint\u001b[0m\u001b[0;34m(\u001b[0m\u001b[0mval\u001b[0m\u001b[0;34m[\u001b[0m\u001b[0;36m0\u001b[0m\u001b[0;34m]\u001b[0m\u001b[0;34m.\u001b[0m\u001b[0mshape\u001b[0m\u001b[0;34m)\u001b[0m\u001b[0;34m\u001b[0m\u001b[0;34m\u001b[0m\u001b[0m\n",
      "\u001b[0;31mKeyboardInterrupt\u001b[0m: "
     ]
    }
   ],
   "source": [
    "import time\n",
    "\n",
    "# test.auto_collation=False\n",
    "tic=time.time()\n",
    "for val in dataloader:\n",
    "#     print('hii')\n",
    "# for val in dataset:\n",
    "#     val\n",
    "    val[0].to(DEVICE)\n",
    "    val[1].to(DEVICE)\n",
    "    print(val[0].shape)\n",
    "    print(misc.estimate_size_of_float_array(input_shape=val[0].shape, bitsize=32)/1000000000)\n",
    "#     print(val[0].dtype)\n",
    "#     print(val[0].device)\n",
    "    print(time.time() - tic)\n",
    "    tic = time.time()\n",
    "#     print(len(val[0]))\n",
    "#     print(val[0].shape)"
   ]
  },
  {
   "cell_type": "code",
   "execution_count": null,
   "id": "bf6c4ec0",
   "metadata": {},
   "outputs": [],
   "source": []
  },
  {
   "cell_type": "code",
   "execution_count": null,
   "id": "fd55708e",
   "metadata": {},
   "outputs": [],
   "source": []
  },
  {
   "cell_type": "code",
   "execution_count": null,
   "id": "611d2b18",
   "metadata": {},
   "outputs": [],
   "source": []
  },
  {
   "cell_type": "code",
   "execution_count": null,
   "id": "107a5156",
   "metadata": {},
   "outputs": [],
   "source": []
  },
  {
   "cell_type": "code",
   "execution_count": null,
   "id": "cec9da38",
   "metadata": {},
   "outputs": [],
   "source": []
  },
  {
   "cell_type": "code",
   "execution_count": null,
   "id": "d1ab41c9",
   "metadata": {},
   "outputs": [],
   "source": []
  },
  {
   "cell_type": "code",
   "execution_count": null,
   "id": "a281e584",
   "metadata": {},
   "outputs": [],
   "source": []
  },
  {
   "cell_type": "code",
   "execution_count": null,
   "id": "f1495e54",
   "metadata": {},
   "outputs": [],
   "source": []
  }
 ],
 "metadata": {
  "kernelspec": {
   "display_name": "Python 3",
   "language": "python",
   "name": "python3"
  },
  "language_info": {
   "codemirror_mode": {
    "name": "ipython",
    "version": 3
   },
   "file_extension": ".py",
   "mimetype": "text/x-python",
   "name": "python",
   "nbconvert_exporter": "python",
   "pygments_lexer": "ipython3",
   "version": "3.8.8"
  }
 },
 "nbformat": 4,
 "nbformat_minor": 5
}
